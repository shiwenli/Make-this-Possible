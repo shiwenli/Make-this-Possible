{
 "cells": [
  {
   "cell_type": "markdown",
   "metadata": {},
   "source": [
    "## Code written and working on simulated data set"
   ]
  },
  {
   "cell_type": "code",
   "execution_count": 83,
   "metadata": {
    "collapsed": true
   },
   "outputs": [],
   "source": [
    "import numpy as np\n",
    "import scipy as sp"
   ]
  },
  {
   "cell_type": "code",
   "execution_count": 117,
   "metadata": {
    "collapsed": true
   },
   "outputs": [],
   "source": [
    "def PhiGamma(alpha, beta, w, T):\n",
    "    k = len(alpha)\n",
    "    N = len(w)\n",
    "    alpha = np.array(alpha)\n",
    "    beta = np.array(beta)\n",
    "    gamma = np.tile(alpha + N/k, ((T+1),1))\n",
    "    phi = np.array([[[1/k]*k]*N]*(T+1))\n",
    "    for t in range(T):\n",
    "        for n in range(N):\n",
    "            for i in range(k):\n",
    "                phi[t+1,n,i] = beta[i,n] * np.exp(sp.special.psi(gamma[t,i])) #beta[i,n], n should be w_n.\n",
    "            phi_const = np.sum(phi[t+1,n,])\n",
    "            phi[t+1,n,] = phi[t+1,n,]/phi_const\n",
    "        gamma[t+1,] = alpha + np.sum(phi[t+1,], axis=0)\n",
    "    return(gamma[T,],phi[T,])"
   ]
  },
  {
   "cell_type": "code",
   "execution_count": 121,
   "metadata": {
    "collapsed": false
   },
   "outputs": [
    {
     "data": {
      "text/plain": [
       "(array([ 1.66666667,  1.66666667,  1.66666667]),\n",
       " array([[ 0.33333333,  0.33333333,  0.33333333],\n",
       "        [ 0.33333333,  0.33333333,  0.33333333],\n",
       "        [ 0.33333333,  0.33333333,  0.33333333],\n",
       "        [ 0.33333333,  0.33333333,  0.33333333]]))"
      ]
     },
     "execution_count": 121,
     "metadata": {},
     "output_type": "execute_result"
    }
   ],
   "source": [
    "#Test function\n",
    "N=4\n",
    "T=5\n",
    "alpha = np.array([1/3,1/3,1/3])\n",
    "beta = np.array([[1/2,1/2,1/2,1/2,1/2,1/2], [1/2,1/2,1/2,1/2,1/2,1/2], [1/2,1/2,1/2,1/2,1/2,1/2]])\n",
    "w=0\n",
    "a = np.stack((beta,beta))\n",
    "PhiGamma(alpha, beta, w, N, T)"
   ]
  },
  {
   "cell_type": "markdown",
   "metadata": {},
   "source": [
    "## Background written"
   ]
  },
  {
   "cell_type": "markdown",
   "metadata": {},
   "source": []
  },
  {
   "cell_type": "markdown",
   "metadata": {},
   "source": [
    "## Flesh out sections and subsections as appropriate"
   ]
  },
  {
   "cell_type": "markdown",
   "metadata": {},
   "source": []
  }
 ],
 "metadata": {
  "kernelspec": {
   "display_name": "Python 3",
   "language": "python",
   "name": "python3"
  },
  "language_info": {
   "codemirror_mode": {
    "name": "ipython",
    "version": 3
   },
   "file_extension": ".py",
   "mimetype": "text/x-python",
   "name": "python",
   "nbconvert_exporter": "python",
   "pygments_lexer": "ipython3",
   "version": "3.5.1"
  }
 },
 "nbformat": 4,
 "nbformat_minor": 0
}
