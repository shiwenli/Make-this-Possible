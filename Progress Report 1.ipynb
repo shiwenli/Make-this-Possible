{
 "cells": [
  {
   "cell_type": "markdown",
   "metadata": {},
   "source": [
    "# Progress Report 1\n",
    "\n",
    "### Choice of paper: Latent Dirichlet Allocation by David M. Blei, Andrew Y. Ng and Michael I. Jordan\n",
    "\n",
    "## Preliminary Section and Subsection Headings\n",
    "\n",
    "1. Introduction\n",
    "    1. Question Interested\n",
    "    2. Basic Thoughts and Procedure\n",
    "2. Algorithm \n",
    "    1. Models\n",
    "    2. Techniques for Inference\n",
    "3. Application\n",
    "    1. Simulated data\n",
    "    2. Real dataset\n",
    "4. Optimization and Analysis\n",
    "5. Discussion\n",
    "\n",
    "## Abstract of Project \n",
    "\n",
    "For this project, we will introduce briefly a model, latent Dirichlet allocation (LDA), for discrete data, especially text corpora. Along with this model, the relative inference techniques will be provided. Based on this method, we write code to run this algorithm on simulated data and real dataset. Also, we will try to optimize the algorithm and code according to the performance on the above data. At last, we will discuss the effect, advantages and disadvantages of this model.\n"
   ]
  },
  {
   "cell_type": "code",
   "execution_count": null,
   "metadata": {
    "collapsed": true
   },
   "outputs": [],
   "source": []
  }
 ],
 "metadata": {
  "kernelspec": {
   "display_name": "Python 3",
   "language": "python",
   "name": "python3"
  },
  "language_info": {
   "codemirror_mode": {
    "name": "ipython",
    "version": 3
   },
   "file_extension": ".py",
   "mimetype": "text/x-python",
   "name": "python",
   "nbconvert_exporter": "python",
   "pygments_lexer": "ipython3",
   "version": "3.5.1"
  }
 },
 "nbformat": 4,
 "nbformat_minor": 0
}
